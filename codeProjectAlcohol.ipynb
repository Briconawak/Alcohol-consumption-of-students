{
 "cells": [
  {
   "cell_type": "code",
   "execution_count": null,
   "id": "abdd1c95-f8aa-451a-a2a5-93e9fdb23987",
   "metadata": {
    "tags": []
   },
   "outputs": [],
   "source": [
    "pip install pandas matplotlib"
   ]
  },
  {
   "cell_type": "markdown",
   "id": "0323d67c-6778-4b8b-b63f-377441a24c4b",
   "metadata": {},
   "source": [
    "Some function usefull :"
   ]
  },
  {
   "cell_type": "code",
   "execution_count": null,
   "id": "d3352712-2149-40f1-b476-9489469b70b8",
   "metadata": {},
   "outputs": [],
   "source": [
    "import csv\n",
    "import pandas as pd\n",
    "import seaborn as sns\n",
    "import matplotlib.pyplot as plt\n",
    "import numpy as np\n",
    "from mpl_toolkits.mplot3d import Axes3D\n",
    "\n",
    "def columnPlot(data,x_col,y_col):\n",
    "    \n",
    "    sns.countplot(x=X, data=data)\n",
    "    plt.xlabel(str(x_col))\n",
    "    plt.ylabel(str(y_col))\n",
    "    plt.title('Distribution of '+str(x_col)+\" vs \"+str(y_col))\n",
    "    plt.show()\n",
    "    return None\n",
    "\n",
    "def PlotBubble(data,x_col,y_col,color=\"black\"):\n",
    "    df = pd.DataFrame(data)\n",
    "    counts = df.groupby([x_col, y_col]).size().reset_index(name='count')\n",
    "    fig, ax = plt.subplots()\n",
    "    sns.scatterplot(x=x_col, y=y_col, size='count', sizes=(40, 500), data=counts, ax=ax, legend=False, color=color)\n",
    "    plt.title(\"Graph of \"+str(x_col)+\" vs \"+str(y_col))\n",
    "    return None\n",
    "\n",
    "def Plot3d(data, x_col,y_col):\n",
    "    df = pd.DataFrame(data)\n",
    "\n",
    "    counts = df.groupby([x_col, y_col]).size().reset_index(name='count')\n",
    "    fig = plt.figure(figsize=(10, 8))\n",
    "    ax = fig.add_subplot(111, projection='3d')\n",
    "    ax.plot_trisurf(counts[x_col], counts[y_col], counts['count'], cmap='viridis', linewidth=0.2, edgecolor='k')\n",
    "    plt.title('3d graph of '+str(x_col)+' vs '+str(y_col))\n",
    "    plt.show()\n",
    "    return None\n",
    "\n",
    "def meanData(data, mean, parameter):\n",
    "    df = pd.DataFrame(data)\n",
    "    average = df.groupby(mean)[parameter].mean()\n",
    "    return average"
   ]
  },
  {
   "cell_type": "markdown",
   "id": "6e2cc5ed-9a2c-482c-b6a9-8a330db1a5e7",
   "metadata": {},
   "source": [
    "Import of the dataset :"
   ]
  },
  {
   "cell_type": "code",
   "execution_count": 114,
   "id": "fc1c18b5-0158-4eef-94a0-0523d8581780",
   "metadata": {
    "tags": []
   },
   "outputs": [],
   "source": [
    "import pandas as pd\n",
    "\n",
    "path = 'student-mat.csv'\n",
    "data = pd.read_csv(path)"
   ]
  },
  {
   "cell_type": "markdown",
   "id": "39ab6e92-f734-4928-92cb-3db3d5b2320a",
   "metadata": {},
   "source": [
    "Study of the workday consumption of alcohol and correlation with grades :"
   ]
  },
  {
   "cell_type": "code",
   "execution_count": null,
   "id": "d771b2f5-fb48-4101-82c7-17145a343e81",
   "metadata": {
    "tags": []
   },
   "outputs": [],
   "source": [
    "import csv\n",
    "import pandas as pd\n",
    "\n",
    "path = 'student-mat.csv'\n",
    "data = pd.read_csv(path)\n",
    "\n",
    "\n",
    "def meanData(data, mean, parameter):\n",
    "    df = pd.DataFrame(data)\n",
    "    average = df.groupby(mean)[parameter].mean()\n",
    "    return average\n",
    "\n",
    "\n",
    "\n",
    "G1mean = meanData(data,\"Dalc\",\"G1\")\n",
    "G2mean = meanData(data,\"Dalc\",\"G2\")\n",
    "G3mean = meanData(data,\"Dalc\",\"G3\")\n",
    "print(\"Average grades for students with a very low workday alcohol consumption\")\n",
    "print(\"G1 : \"+str(G1mean.values[0]))\n",
    "print(\"G2 : \"+str(G2mean.values[0]))\n",
    "print(\"G3 : \"+str(G3mean.values[0]))\n",
    "print(\"Average grades for students with a low workday alcohol consumption\")\n",
    "print(\"G1 : \"+str(G1mean.values[1]))\n",
    "print(\"G2 : \"+str(G2mean.values[1]))\n",
    "print(\"G3 : \"+str(G3mean.values[1]))\n",
    "print(\"Average grades for students with an average workday alcohol consumption\")\n",
    "print(\"G1 : \"+str(G1mean.values[2]))\n",
    "print(\"G2 : \"+str(G2mean.values[2]))\n",
    "print(\"G3 : \"+str(G3mean.values[2]))\n",
    "print(\"Average grades for students with a high workday alcohol consumption\")\n",
    "print(\"G1 : \"+str(G1mean.values[3]))\n",
    "print(\"G2 : \"+str(G2mean.values[3]))\n",
    "print(\"G3 : \"+str(G3mean.values[3]))\n",
    "print(\"Average grades for students with a very high workday alcohol consumption\")\n",
    "print(\"G1 : \"+str(G1mean.values[4]))\n",
    "print(\"G2 : \"+str(G2mean.values[4]))\n",
    "print(\"G3 : \"+str(G3mean.values[4]))\n",
    "print(\"We can see that the group with a very low workday alcohol consumption have better average grades than the other groups\")\n",
    "print(\"We can study if the consumption of alcohol is higher for the people with lower grades\")\n",
    "\n",
    "\n",
    "PlotBubble(data,\"G1\",\"Dalc\",\"red\")\n",
    "PlotBubble(data,\"G2\",\"Dalc\",\"green\")\n",
    "PlotBubble(data,\"G3\",\"Dalc\",\"blue\")\n",
    "\n",
    "print(\"We can see in the graph that for every grades, the students with a very high workday alcohol consumption have grades between 5 and 15\")\n",
    "print(\"The part of the students with a very low workday alcohol consumption have grades between 0 and 20\")\n",
    "print(\"In resume, i can say that maybe the grades are not an important factor in the workday alcohol consumption\")"
   ]
  },
  {
   "cell_type": "markdown",
   "id": "3ea8aef3-13ae-46e7-a9be-5ed5ab5c5df4",
   "metadata": {
    "tags": []
   },
   "source": [
    "Study of the consumption of alcohol and correlation with the sex of students :"
   ]
  },
  {
   "cell_type": "code",
   "execution_count": 169,
   "id": "2cb8356b-f8f7-4bae-b82b-e4a9ce099642",
   "metadata": {
    "tags": []
   },
   "outputs": [
    {
     "name": "stdout",
     "output_type": "stream",
     "text": [
      "There is 208 female students and 187 male students.\n",
      "This makes a distribution of 47% and 53% around, so the distribution between the two sex is fair\n",
      "We can see that there are slightly more women than men on the total figure, and yet in the graph we\n",
      "can see that there are more men who drink a lot than women who drink a lot, and conversely there\n",
      "are more women who drink little than men who drink little\n"
     ]
    },
    {
     "data": {
      "image/png": "[encoded data removed]",
      "text/plain": [
       "<Figure size 640x480 with 1 Axes>"
      ]
     },
     "metadata": {},
     "output_type": "display_data"
    }
   ],
   "source": [
    "import pandas as pd\n",
    "import seaborn as sns\n",
    "import matplotlib.pyplot as plt\n",
    "\n",
    "path = 'student-mat.csv'\n",
    "data = pd.read_csv(path)\n",
    "\n",
    "def PlotBubble(data, x_col, y_col, color=\"blue\"):\n",
    "    df = pd.DataFrame(data)\n",
    "    counts = df.groupby([x_col, y_col]).size().reset_index(name='count')\n",
    "\n",
    "    # Ajuster la position des bulles pour les catégories 'F' et 'M'\n",
    "    counts[x_col] = counts[x_col].map({'F': -0.1, 'M': 0.1})\n",
    "\n",
    "    fig, ax = plt.subplots()\n",
    "    scatter = sns.scatterplot(x=x_col, y=y_col, size='count', sizes=(40, 500), data=counts, ax=ax, legend=False, color=color)\n",
    "\n",
    "    # Annoter chaque point avec le nombre correspondant\n",
    "    for line in range(0, counts.shape[0]):\n",
    "        text_x = counts[x_col].iloc[line]\n",
    "        text_y = counts[y_col].iloc[line]\n",
    "        count_value = counts['count'].iloc[line]\n",
    "\n",
    "        # Décaler le texte légèrement sur le côté\n",
    "        text_x += 0.008\n",
    "\n",
    "        scatter.text(text_x, text_y, count_value,\n",
    "                     horizontalalignment='center', verticalalignment='center',\n",
    "                     bbox=dict(facecolor='orange', alpha=0.7, edgecolor='none', boxstyle='round,pad=0.3'))\n",
    "\n",
    "    # Masquer l'axe x et afficher les libellés 'M' et 'F'\n",
    "    ax.set(xticks=[])\n",
    "\n",
    "    plt.title(\"F                                                                                M\")\n",
    "    plt.show()\n",
    "\n",
    "sexcount=data['sex'].value_counts().values\n",
    "print(\"There is \"+str(sexcount[0])+\" female students and \"+str(sexcount[1])+\" male students.\")\n",
    "print(\"This makes a distribution of 47% and 53% around, so the distribution between the two sex is fair\")\n",
    "print(\"We can see that there are slightly more women than men on the total figure, and yet in the graph we\")\n",
    "print(\"can see that there are more men who drink a lot than women who drink a lot, and conversely there\")\n",
    "print(\"are more women who drink little than men who drink little\")\n",
    "\n",
    "PlotBubble(data,\"sex\",\"Dalc\")"
   ]
  },
  {
   "cell_type": "code",
   "execution_count": null,
   "id": "4f56f1de-1728-48d9-b9b9-516c899d48bf",
   "metadata": {},
   "outputs": [],
   "source": []
  }
 ],
 "metadata": {
  "kernelspec": {
   "display_name": "Python 3 (ipykernel)",
   "language": "python",
   "name": "python3"
  },
  "language_info": {
   "codemirror_mode": {
    "name": "ipython",
    "version": 3
   },
   "file_extension": ".py",
   "mimetype": "text/x-python",
   "name": "python",
   "nbconvert_exporter": "python",
   "pygments_lexer": "ipython3",
   "version": "3.11.4"
  }
 },
 "nbformat": 4,
 "nbformat_minor": 5
}
