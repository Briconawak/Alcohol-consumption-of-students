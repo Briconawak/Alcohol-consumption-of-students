{
 "cells": [
  {
   "cell_type": "code",
   "execution_count": null,
   "id": "d876d69f-f747-470f-b9c6-1a50ef8fc885",
   "metadata": {
    "tags": []
   },
   "outputs": [],
   "source": [
    "pip install pandas matplotlib"
   ]
  },
  {
   "cell_type": "markdown",
   "id": "6ae35233-85bf-47f3-be16-77a7fbb36e07",
   "metadata": {},
   "source": [
    "Import of the dataset :"
   ]
  },
  {
   "cell_type": "code",
   "execution_count": 120,
   "id": "62f01054-3e80-485e-a0d9-1914dc325c6f",
   "metadata": {
    "tags": []
   },
   "outputs": [],
   "source": [
    "import pandas as pd\n",
    "path = 'student-mat.csv'\n",
    "df = pd.read_csv(path)\n",
    "\n",
    "\n",
    "df[SocialPressures] = df[SocialPressures].replace({'no': 0, 'yes': 1})\n",
    "df[UniversityLifeExpectations] = df[UniversityLifeExpectations].replace({'no': 0, 'yes': 1})\n",
    "df[DemographicVariables] = df[DemographicVariables].replace({'no': 0, 'yes': 1, 'F':0, 'M':1, 'U':0, 'R':1})\n",
    "df[FamilyVariables] = df[FamilyVariables].replace({'no': 0, 'yes': 1, 'father':-1, 'other':0, 'mother':1 , 'A':0, 'T':1, 'LE3':0, 'GT3':1})"
   ]
  },
  {
   "cell_type": "markdown",
   "id": "fcac2059-1844-4729-b9ec-60eb16e412be",
   "metadata": {},
   "source": [
    "We create a category for each variables :"
   ]
  },
  {
   "cell_type": "code",
   "execution_count": 107,
   "id": "8a400523-a494-4768-a818-3ccd2be69b5a",
   "metadata": {
    "tags": []
   },
   "outputs": [],
   "source": [
    "SchoolStress=[\"studytime\",\"failures\",\"absences\",\"traveltime\"]\n",
    "\n",
    "SocialPressures=[\"goout\",\"freetime\",\"activities\",\"romantic\",\"paid\"]\n",
    "\n",
    "UniversityLifeExpectations=[\"higher\",\"internet\",\"schoolsup\",]\n",
    "#For the UniversityLifeExpectations we removed reason because there is too many different string values inside\n",
    "\n",
    "DemographicVariables=[\"age\",\"sex\",\"address\",\"health\",\"nursery\"]\n",
    "\n",
    "AcademicResults=[\"G1\",\"G2\",\"G3\"]\n",
    "\n",
    "FamilyVariables=[\"famsize\",\"Pstatus\",\"famsup\",\"famrel\",\"guardian\"]\n",
    "#For the FamilyVariables we removed Mjob and Fjob because there is too many different string values inside\n",
    "\n",
    "AlcoholConsumption=[\"Dalc\",\"Walc\"]"
   ]
  },
  {
   "cell_type": "markdown",
   "id": "1ed12d59-a060-4734-a66a-3667f06c70ec",
   "metadata": {},
   "source": [
    "Graphic analysis :"
   ]
  },
  {
   "cell_type": "code",
   "execution_count": null,
   "id": "025c39be-620b-457b-93cd-60bb1261e4f2",
   "metadata": {
    "tags": []
   },
   "outputs": [],
   "source": [
    "import pandas as pd\n",
    "import numpy as np\n",
    "import matplotlib.pyplot as plt\n",
    "from scipy.stats import spearmanr\n",
    "\n",
    "def graph(col_x, col_y):\n",
    "    plt.scatter(df[col_x], data[col_y])\n",
    "    plt.xlabel(col_x)\n",
    "    plt.ylabel(col_y)\n",
    "    plt.show()\n",
    "\n",
    "\n",
    "def correlationPearson(col,research_value):\n",
    "    corr_df = df[col+research_value]\n",
    "    correlation_matrix = corr_df.corr()\n",
    "    print(\"\\nCorrelation matrix of pearson\\n\")\n",
    "    print(correlation_matrix)\n",
    "    sortValuesCorrelation(correlation_matrix,research_value)\n",
    "    \n",
    "    \n",
    "def sortValuesCorrelation(correlation_matrix,research_value):\n",
    "    \n",
    "    corr_highest = correlation_matrix.unstack().sort_values(ascending=False).drop_duplicates()\n",
    "    print(\"\\nHighest correlations for \"+str(research_value)+\" :\\n\", corr_highest[corr_highest != 1].head())\n",
    "\n",
    "    corr_lowest = correlation_matrix.unstack().sort_values().drop_duplicates()\n",
    "    print(\"\\nLowest correlations for \"+str(research_value)+\" :\\n\", corr_lowest.head())\n",
    "    \n",
    "    seuil_zero = 0.1\n",
    "    corr_near_zero = corr_highest[(corr_highest >= -seuil_zero) & (corr_highest <= seuil_zero)]\n",
    "    print(\"\\nClosest correlations from 0 for \"+str(research_value)+\" :\\n\", corr_near_zero)\n",
    "\n",
    "\n",
    "\n",
    "def correlationSpearman(col,research_value):\n",
    "    correlation_matrix, p_values = spearmanr(df[col+research_value])\n",
    "    print(\"\\nSpearman matrix correlation :\\n\", col+research_value)\n",
    "    print(correlation_matrix)\n",
    "\n",
    "\n",
    "    print(\"\\np value associated :\\n\", col+research_value)\n",
    "    print(p_values)\n",
    "\n",
    "\n",
    "\n",
    "\n",
    "print(\"\\n\\n SchoolStress : \\n\")\n",
    "correlationPearson(SchoolStress,[\"Dalc\"])\n",
    "correlationPearson(SchoolStress,[\"Walc\"])\n",
    "print(\"\\n SocialPressures : \\n\")\n",
    "correlationPearson(SocialPressures,[\"Dalc\"])\n",
    "correlationPearson(SocialPressures,[\"Walc\"])\n",
    "print(\"\\n UniversityLifeExpectations : \\n\")\n",
    "correlationPearson(UniversityLifeExpectations,[\"Dalc\"])\n",
    "correlationPearson(UniversityLifeExpectations,[\"Walc\"])\n",
    "print(\"\\n DemographicVariables : \\n\")\n",
    "correlationPearson(DemographicVariables,[\"Dalc\"])\n",
    "correlationPearson(DemographicVariables,[\"Walc\"])\n",
    "print(\"\\n AcademicResults : \\n\")\n",
    "correlationPearson(AcademicResults,[\"Dalc\"])\n",
    "correlationPearson(AcademicResults,[\"Walc\"])\n",
    "print(\"\\n FamilyVariables : \\n\")\n",
    "correlationPearson(FamilyVariables,[\"Dalc\"])\n",
    "correlationPearson(FamilyVariables,[\"Walc\"])\n",
    "\n",
    "#To analyse the matrix with the p-values, you need to look at the last row or the last column, the same for the correlation matrix\n",
    "print(\"\\n\\n SchoolStress : \\n\")\n",
    "correlationSpearman(SchoolStress,[\"Dalc\"])\n",
    "correlationSpearman(SchoolStress,[\"Walc\"])\n",
    "print(\"\\n SocialPressures : \\n\")\n",
    "correlationSpearman(SocialPressures,[\"Dalc\"])\n",
    "correlationSpearman(SocialPressures,[\"Walc\"])\n",
    "print(\"\\n UniversityLifeExpectations : \\n\")\n",
    "correlationSpearman(UniversityLifeExpectations,[\"Dalc\"])\n",
    "correlationSpearman(UniversityLifeExpectations,[\"Walc\"])\n",
    "print(\"\\n DemographicVariables : \\n\")\n",
    "correlationSpearman(DemographicVariables,[\"Dalc\"])\n",
    "correlationSpearman(DemographicVariables,[\"Walc\"])\n",
    "print(\"\\n AcademicResults : \\n\")\n",
    "correlationSpearman(AcademicResults,[\"Dalc\"])\n",
    "correlationSpearman(AcademicResults,[\"Walc\"])\n",
    "print(\"\\n FamilyVariables : \\n\")\n",
    "correlationSpearman(FamilyVariables,[\"Dalc\"])\n",
    "correlationSpearman(FamilyVariables,[\"Walc\"])"
   ]
  },
  {
   "cell_type": "markdown",
   "id": "cace2968-5f6e-47d6-9d1c-57f99f503bc2",
   "metadata": {},
   "source": [
    "Link of scientific documentations :\n",
    "\n",
    "About school stress :\n",
    "study - https://psycnet.apa.org/record/2010-19089-001\n",
    "absences - https://www.scielo.br/j/reben/a/c3FdDLHNVxFdpp4gY4gCYbs/\n",
    "absences and failures - https://onlinelibrary.wiley.com/doi/abs/10.1111/josh.12201\n",
    "\n",
    "About social pressure :\n",
    "go out - https://www.tandfonline.com/doi/abs/10.1080/09687630310001657944\n",
    "go out - https://www.jstor.org/stable/45091756\n",
    "free time - https://pubmed.ncbi.nlm.nih.gov/37346392/\n",
    "\n",
    "About University Life Expectations :\n",
    "internet - https://pubmed.ncbi.nlm.nih.gov/29405857/\n",
    "\n",
    "About Demographic Variables :\n",
    "sex - https://www.tandfonline.com/doi/abs/10.1080/07448481.1987.9939003\n",
    "age - https://onlinelibrary.wiley.com/doi/abs/10.1111/acer.13294\n",
    "\n",
    "About Family Variables :\n",
    "https://pubmed.ncbi.nlm.nih.gov/35982433/\n"
   ]
  },
  {
   "cell_type": "code",
   "execution_count": null,
   "id": "8259a013-5680-4653-9021-54a3aa73ec2b",
   "metadata": {},
   "outputs": [],
   "source": []
  }
 ],
 "metadata": {
  "kernelspec": {
   "display_name": "Python 3 (ipykernel)",
   "language": "python",
   "name": "python3"
  },
  "language_info": {
   "codemirror_mode": {
    "name": "ipython",
    "version": 3
   },
   "file_extension": ".py",
   "mimetype": "text/x-python",
   "name": "python",
   "nbconvert_exporter": "python",
   "pygments_lexer": "ipython3",
   "version": "3.11.4"
  }
 },
 "nbformat": 4,
 "nbformat_minor": 5
}
